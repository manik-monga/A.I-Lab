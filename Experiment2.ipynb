{
  "nbformat": 4,
  "nbformat_minor": 0,
  "metadata": {
    "colab": {
      "name": "Experiment2.ipynb",
      "provenance": []
    },
    "kernelspec": {
      "name": "python3",
      "display_name": "Python 3"
    }
  },
  "cells": [
    {
      "cell_type": "code",
      "metadata": {
        "colab": {
          "base_uri": "https://localhost:8080/"
        },
        "id": "n1gj_cKX5Fex",
        "outputId": "73dbdc67-4c6b-4f78-aa90-80a9c40de111"
      },
      "source": [
        "# Python3 program to demonstrate \n",
        "# working of Alpha-Beta Pruning \n",
        "\n",
        "# Initial values of Aplha and Beta \n",
        "MAX, MIN = 1000, -1000\n",
        "\n",
        "# Returns optimal value for current player  \n",
        "def minimax(depth, nodeIndex, maximizingPlayer, \n",
        "\t\t\tvalues, alpha, beta): \n",
        "\n",
        "\t# Terminating condition. i.e \n",
        "\t# leaf node is reached \n",
        "\tif depth == 3: \n",
        "\t\treturn values[nodeIndex] \n",
        "\n",
        "\tif maximizingPlayer: \n",
        "\t\n",
        "\t\tbest = MIN\n",
        "\n",
        "\t\t# Recur for left and right children \n",
        "\t\tfor i in range(0, 2): \n",
        "\t\t\t\n",
        "\t\t\tval = minimax(depth + 1, nodeIndex * 2 + i, \n",
        "\t\t\t\t\t\tFalse, values, alpha, beta) \n",
        "\t\t\tbest = max(best, val) \n",
        "\t\t\talpha = max(alpha, best) \n",
        "\n",
        "\t\t\t# Alpha Beta Pruning \n",
        "\t\t\tif beta <= alpha: \n",
        "\t\t\t\tbreak\n",
        "\t\t\n",
        "\t\treturn best \n",
        "\t\n",
        "\telse: \n",
        "\t\tbest = MAX\n",
        "\n",
        "\t\t# Recur for left and \n",
        "\t\t# right children \n",
        "\t\tfor i in range(0, 2):\n",
        "    \n",
        "\t\t\tval = minimax(depth + 1, nodeIndex * 2 + i, \n",
        "\t\t\t\t\t\t\tTrue, values, alpha, beta) \n",
        "\t\t\tbest = min(best, val) \n",
        "\t\t\tbeta = min(beta, best) \n",
        "\n",
        "\t\t\t# Alpha Beta Pruning \n",
        "\t\t\tif beta <= alpha: \n",
        "\t\t\t\tbreak\n",
        "\t\t\n",
        "\t\treturn best \n",
        "\t\n",
        "# Driver Code \n",
        "if __name__ == \"__main__\": \n",
        "\n",
        "\tvalues = [3, 5, 6, 9, 1, 2, 0, -1] \n",
        "\tprint(\"The optimal value is :\", minimax(0, 0, True, values, MIN, MAX))"
      ],
      "execution_count": 2,
      "outputs": [
        {
          "output_type": "stream",
          "text": [
            "The optimal value is : 5\n"
          ],
          "name": "stdout"
        }
      ]
    },
    {
      "cell_type": "code",
      "metadata": {
        "colab": {
          "base_uri": "https://localhost:8080/"
        },
        "id": "Dzc70yXB6HYa",
        "outputId": "5159fc38-0ad8-4e24-db32-3ca106ae40fa"
      },
      "source": [
        "import math \n",
        "  \n",
        "def minimax (curDepth, nodeIndex, \n",
        "             maxTurn, scores,  \n",
        "             targetDepth): \n",
        "  \n",
        "    # base case : targetDepth reached \n",
        "    if (curDepth == targetDepth):  \n",
        "        return scores[nodeIndex] \n",
        "      \n",
        "    if (maxTurn): \n",
        "        return max(minimax(curDepth + 1, nodeIndex * 2,  \n",
        "                    False, scores, targetDepth),  \n",
        "                   minimax(curDepth + 1, nodeIndex * 2 + 1,  \n",
        "                    False, scores, targetDepth)) \n",
        "      \n",
        "    else: \n",
        "        return min(minimax(curDepth + 1, nodeIndex * 2,  \n",
        "                     True, scores, targetDepth),  \n",
        "                   minimax(curDepth + 1, nodeIndex * 2 + 1,  \n",
        "                     True, scores, targetDepth)) \n",
        "      \n",
        "# Driver code \n",
        "scores = [3, 5, 2, 9, 12, 5, 23, 23] \n",
        "  \n",
        "treeDepth = math.log(len(scores), 2) \n",
        "  \n",
        "print(\"The optimal value is : \", end = \"\") \n",
        "print(minimax(0, 0, True, scores, treeDepth))"
      ],
      "execution_count": 3,
      "outputs": [
        {
          "output_type": "stream",
          "text": [
            "The optimal value is : 12\n"
          ],
          "name": "stdout"
        }
      ]
    }
  ]
}